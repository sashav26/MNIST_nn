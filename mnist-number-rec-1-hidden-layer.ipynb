{
 "cells": [
  {
   "cell_type": "code",
   "execution_count": 1,
   "id": "dad9b01b",
   "metadata": {
    "_cell_guid": "b1076dfc-b9ad-4769-8c92-a6c4dae69d19",
    "_uuid": "8f2839f25d086af736a60e9eeb907d3b93b6e0e5",
    "execution": {
     "iopub.execute_input": "2024-01-10T08:05:25.129836Z",
     "iopub.status.busy": "2024-01-10T08:05:25.129393Z",
     "iopub.status.idle": "2024-01-10T08:05:25.570499Z",
     "shell.execute_reply": "2024-01-10T08:05:25.569251Z"
    },
    "papermill": {
     "duration": 0.452587,
     "end_time": "2024-01-10T08:05:25.573591",
     "exception": false,
     "start_time": "2024-01-10T08:05:25.121004",
     "status": "completed"
    },
    "tags": []
   },
   "outputs": [],
   "source": [
    "## This Python 3 environment comes with many helpful analytics libraries installed\n",
    "# It is defined by the kaggle/python Docker image: https://github.com/kaggle/docker-python\n",
    "# For example, here's several helpful packages to load\n",
    "\n",
    "import numpy as np # linear algebra\n",
    "import pandas as pd # data processing, CSV file I/O (e.g. pd.read_csv)\n",
    "from matplotlib import pyplot as plt\n"
   ]
  },
  {
   "cell_type": "code",
   "execution_count": 2,
   "id": "782e012c",
   "metadata": {
    "execution": {
     "iopub.execute_input": "2024-01-10T08:05:25.588097Z",
     "iopub.status.busy": "2024-01-10T08:05:25.587368Z",
     "iopub.status.idle": "2024-01-10T08:05:30.488646Z",
     "shell.execute_reply": "2024-01-10T08:05:30.486829Z"
    },
    "papermill": {
     "duration": 4.911714,
     "end_time": "2024-01-10T08:05:30.491817",
     "exception": false,
     "start_time": "2024-01-10T08:05:25.580103",
     "status": "completed"
    },
    "tags": []
   },
   "outputs": [],
   "source": [
    "data = pd.read_csv('/kaggle/input/digit-recognizer/train.csv')"
   ]
  },
  {
   "cell_type": "code",
   "execution_count": 3,
   "id": "66b1dcd5",
   "metadata": {
    "execution": {
     "iopub.execute_input": "2024-01-10T08:05:30.506194Z",
     "iopub.status.busy": "2024-01-10T08:05:30.505127Z",
     "iopub.status.idle": "2024-01-10T08:05:30.540817Z",
     "shell.execute_reply": "2024-01-10T08:05:30.539636Z"
    },
    "papermill": {
     "duration": 0.045727,
     "end_time": "2024-01-10T08:05:30.543431",
     "exception": false,
     "start_time": "2024-01-10T08:05:30.497704",
     "status": "completed"
    },
    "tags": []
   },
   "outputs": [
    {
     "data": {
      "text/html": [
       "<div>\n",
       "<style scoped>\n",
       "    .dataframe tbody tr th:only-of-type {\n",
       "        vertical-align: middle;\n",
       "    }\n",
       "\n",
       "    .dataframe tbody tr th {\n",
       "        vertical-align: top;\n",
       "    }\n",
       "\n",
       "    .dataframe thead th {\n",
       "        text-align: right;\n",
       "    }\n",
       "</style>\n",
       "<table border=\"1\" class=\"dataframe\">\n",
       "  <thead>\n",
       "    <tr style=\"text-align: right;\">\n",
       "      <th></th>\n",
       "      <th>label</th>\n",
       "      <th>pixel0</th>\n",
       "      <th>pixel1</th>\n",
       "      <th>pixel2</th>\n",
       "      <th>pixel3</th>\n",
       "      <th>pixel4</th>\n",
       "      <th>pixel5</th>\n",
       "      <th>pixel6</th>\n",
       "      <th>pixel7</th>\n",
       "      <th>pixel8</th>\n",
       "      <th>...</th>\n",
       "      <th>pixel774</th>\n",
       "      <th>pixel775</th>\n",
       "      <th>pixel776</th>\n",
       "      <th>pixel777</th>\n",
       "      <th>pixel778</th>\n",
       "      <th>pixel779</th>\n",
       "      <th>pixel780</th>\n",
       "      <th>pixel781</th>\n",
       "      <th>pixel782</th>\n",
       "      <th>pixel783</th>\n",
       "    </tr>\n",
       "  </thead>\n",
       "  <tbody>\n",
       "    <tr>\n",
       "      <th>0</th>\n",
       "      <td>1</td>\n",
       "      <td>0</td>\n",
       "      <td>0</td>\n",
       "      <td>0</td>\n",
       "      <td>0</td>\n",
       "      <td>0</td>\n",
       "      <td>0</td>\n",
       "      <td>0</td>\n",
       "      <td>0</td>\n",
       "      <td>0</td>\n",
       "      <td>...</td>\n",
       "      <td>0</td>\n",
       "      <td>0</td>\n",
       "      <td>0</td>\n",
       "      <td>0</td>\n",
       "      <td>0</td>\n",
       "      <td>0</td>\n",
       "      <td>0</td>\n",
       "      <td>0</td>\n",
       "      <td>0</td>\n",
       "      <td>0</td>\n",
       "    </tr>\n",
       "    <tr>\n",
       "      <th>1</th>\n",
       "      <td>0</td>\n",
       "      <td>0</td>\n",
       "      <td>0</td>\n",
       "      <td>0</td>\n",
       "      <td>0</td>\n",
       "      <td>0</td>\n",
       "      <td>0</td>\n",
       "      <td>0</td>\n",
       "      <td>0</td>\n",
       "      <td>0</td>\n",
       "      <td>...</td>\n",
       "      <td>0</td>\n",
       "      <td>0</td>\n",
       "      <td>0</td>\n",
       "      <td>0</td>\n",
       "      <td>0</td>\n",
       "      <td>0</td>\n",
       "      <td>0</td>\n",
       "      <td>0</td>\n",
       "      <td>0</td>\n",
       "      <td>0</td>\n",
       "    </tr>\n",
       "    <tr>\n",
       "      <th>2</th>\n",
       "      <td>1</td>\n",
       "      <td>0</td>\n",
       "      <td>0</td>\n",
       "      <td>0</td>\n",
       "      <td>0</td>\n",
       "      <td>0</td>\n",
       "      <td>0</td>\n",
       "      <td>0</td>\n",
       "      <td>0</td>\n",
       "      <td>0</td>\n",
       "      <td>...</td>\n",
       "      <td>0</td>\n",
       "      <td>0</td>\n",
       "      <td>0</td>\n",
       "      <td>0</td>\n",
       "      <td>0</td>\n",
       "      <td>0</td>\n",
       "      <td>0</td>\n",
       "      <td>0</td>\n",
       "      <td>0</td>\n",
       "      <td>0</td>\n",
       "    </tr>\n",
       "    <tr>\n",
       "      <th>3</th>\n",
       "      <td>4</td>\n",
       "      <td>0</td>\n",
       "      <td>0</td>\n",
       "      <td>0</td>\n",
       "      <td>0</td>\n",
       "      <td>0</td>\n",
       "      <td>0</td>\n",
       "      <td>0</td>\n",
       "      <td>0</td>\n",
       "      <td>0</td>\n",
       "      <td>...</td>\n",
       "      <td>0</td>\n",
       "      <td>0</td>\n",
       "      <td>0</td>\n",
       "      <td>0</td>\n",
       "      <td>0</td>\n",
       "      <td>0</td>\n",
       "      <td>0</td>\n",
       "      <td>0</td>\n",
       "      <td>0</td>\n",
       "      <td>0</td>\n",
       "    </tr>\n",
       "    <tr>\n",
       "      <th>4</th>\n",
       "      <td>0</td>\n",
       "      <td>0</td>\n",
       "      <td>0</td>\n",
       "      <td>0</td>\n",
       "      <td>0</td>\n",
       "      <td>0</td>\n",
       "      <td>0</td>\n",
       "      <td>0</td>\n",
       "      <td>0</td>\n",
       "      <td>0</td>\n",
       "      <td>...</td>\n",
       "      <td>0</td>\n",
       "      <td>0</td>\n",
       "      <td>0</td>\n",
       "      <td>0</td>\n",
       "      <td>0</td>\n",
       "      <td>0</td>\n",
       "      <td>0</td>\n",
       "      <td>0</td>\n",
       "      <td>0</td>\n",
       "      <td>0</td>\n",
       "    </tr>\n",
       "  </tbody>\n",
       "</table>\n",
       "<p>5 rows × 785 columns</p>\n",
       "</div>"
      ],
      "text/plain": [
       "   label  pixel0  pixel1  pixel2  pixel3  pixel4  pixel5  pixel6  pixel7  \\\n",
       "0      1       0       0       0       0       0       0       0       0   \n",
       "1      0       0       0       0       0       0       0       0       0   \n",
       "2      1       0       0       0       0       0       0       0       0   \n",
       "3      4       0       0       0       0       0       0       0       0   \n",
       "4      0       0       0       0       0       0       0       0       0   \n",
       "\n",
       "   pixel8  ...  pixel774  pixel775  pixel776  pixel777  pixel778  pixel779  \\\n",
       "0       0  ...         0         0         0         0         0         0   \n",
       "1       0  ...         0         0         0         0         0         0   \n",
       "2       0  ...         0         0         0         0         0         0   \n",
       "3       0  ...         0         0         0         0         0         0   \n",
       "4       0  ...         0         0         0         0         0         0   \n",
       "\n",
       "   pixel780  pixel781  pixel782  pixel783  \n",
       "0         0         0         0         0  \n",
       "1         0         0         0         0  \n",
       "2         0         0         0         0  \n",
       "3         0         0         0         0  \n",
       "4         0         0         0         0  \n",
       "\n",
       "[5 rows x 785 columns]"
      ]
     },
     "execution_count": 3,
     "metadata": {},
     "output_type": "execute_result"
    }
   ],
   "source": [
    "data.head()"
   ]
  },
  {
   "cell_type": "markdown",
   "id": "45f2f1d4",
   "metadata": {
    "papermill": {
     "duration": 0.005888,
     "end_time": "2024-01-10T08:05:30.555586",
     "exception": false,
     "start_time": "2024-01-10T08:05:30.549698",
     "status": "completed"
    },
    "tags": []
   },
   "source": [
    "# **split data into values/pixels and into train/test data**"
   ]
  },
  {
   "cell_type": "code",
   "execution_count": 4,
   "id": "080be07c",
   "metadata": {
    "execution": {
     "iopub.execute_input": "2024-01-10T08:05:30.570908Z",
     "iopub.status.busy": "2024-01-10T08:05:30.569459Z",
     "iopub.status.idle": "2024-01-10T08:05:31.541073Z",
     "shell.execute_reply": "2024-01-10T08:05:31.539857Z"
    },
    "papermill": {
     "duration": 0.982732,
     "end_time": "2024-01-10T08:05:31.544420",
     "exception": false,
     "start_time": "2024-01-10T08:05:30.561688",
     "status": "completed"
    },
    "tags": []
   },
   "outputs": [],
   "source": [
    "data = np.array(data)\n",
    "m, n = data.shape\n",
    "np.random.shuffle(data)\n",
    "\n",
    "testData = data[0:1000].T\n",
    "yTest = testData[0]\n",
    "xTest = testData[1:n]/255.\n",
    "\n",
    "trainData = data[1000:m].T\n",
    "yTrain = trainData[0]\n",
    "xTrain = trainData[1:n]/255.\n",
    "\n"
   ]
  },
  {
   "cell_type": "code",
   "execution_count": 5,
   "id": "065e9ab4",
   "metadata": {
    "execution": {
     "iopub.execute_input": "2024-01-10T08:05:31.560923Z",
     "iopub.status.busy": "2024-01-10T08:05:31.560009Z",
     "iopub.status.idle": "2024-01-10T08:05:31.567368Z",
     "shell.execute_reply": "2024-01-10T08:05:31.566095Z"
    },
    "papermill": {
     "duration": 0.01842,
     "end_time": "2024-01-10T08:05:31.570007",
     "exception": false,
     "start_time": "2024-01-10T08:05:31.551587",
     "status": "completed"
    },
    "tags": []
   },
   "outputs": [],
   "source": [
    "def init_parameters():\n",
    "    W1 = np.random.rand(10,784)-0.5 #generates a 10x784 matrix of random values between 0 and 1 \n",
    "    b1 = np.random.rand(10,1)-0.5\n",
    "    W2 = np.random.rand(10,10)-0.5\n",
    "    b2 = np.random.rand(10,1)-0.5\n",
    "    return W1, b1, W2, b2"
   ]
  },
  {
   "cell_type": "code",
   "execution_count": 6,
   "id": "36993463",
   "metadata": {
    "execution": {
     "iopub.execute_input": "2024-01-10T08:05:31.585033Z",
     "iopub.status.busy": "2024-01-10T08:05:31.584583Z",
     "iopub.status.idle": "2024-01-10T08:05:31.592331Z",
     "shell.execute_reply": "2024-01-10T08:05:31.591105Z"
    },
    "papermill": {
     "duration": 0.018849,
     "end_time": "2024-01-10T08:05:31.595439",
     "exception": false,
     "start_time": "2024-01-10T08:05:31.576590",
     "status": "completed"
    },
    "tags": []
   },
   "outputs": [],
   "source": [
    "def relu(X):\n",
    "    return np.maximum(0, X) #returns either X or 0, whichever is higher\n",
    "                            # filters for x or 0 (like ReLu function)\n",
    "\n",
    "def derivativeRelu(A):\n",
    "    return A > 0 \n",
    "    \n",
    "def softmax(X):\n",
    "    #y = np.exp(X-np.max(X))\n",
    "    #return y/(np.exp(y))\n",
    "    return np.exp(X) / sum(np.exp(X))\n",
    "        \n",
    "def oneHot(Y):\n",
    "    one_hot_Y = np.zeros((Y.size, Y.max() + 1))\n",
    "    one_hot_Y[np.arange(Y.size), Y] = 1\n",
    "    one_hot_Y = one_hot_Y.T\n",
    "    return one_hot_Y\n"
   ]
  },
  {
   "cell_type": "code",
   "execution_count": 7,
   "id": "96da66be",
   "metadata": {
    "execution": {
     "iopub.execute_input": "2024-01-10T08:05:31.609846Z",
     "iopub.status.busy": "2024-01-10T08:05:31.609383Z",
     "iopub.status.idle": "2024-01-10T08:05:31.619417Z",
     "shell.execute_reply": "2024-01-10T08:05:31.618036Z"
    },
    "papermill": {
     "duration": 0.020144,
     "end_time": "2024-01-10T08:05:31.621879",
     "exception": false,
     "start_time": "2024-01-10T08:05:31.601735",
     "status": "completed"
    },
    "tags": []
   },
   "outputs": [],
   "source": [
    "def forwardP(W1, b1, W2, b2, X):\n",
    "    #b1 = np.resize(b1, (10,X[0].size))\n",
    "    #b2 = np.resize(b2, (10,X[0].size))\n",
    "    Z1 = W1.dot(X) + b1\n",
    "    A1 = relu(Z1)\n",
    "    Z2 = W2.dot(A1) + b2\n",
    "    A2 = softmax(Z2)\n",
    "    return Z1, A1, Z2, A2\n",
    "\n",
    "def backwardP(Z1, A1, Z2, A2, W2, X,  Y):\n",
    "    m = Y.size\n",
    "    oneHotY = oneHot(Y) #correct answers matrix, to be subtracted\n",
    "    dZ2 = A2 - oneHotY\n",
    "    dW2 = 1/m * dZ2.dot(A1.T)\n",
    "    db2 = 1/m * np.sum(dZ2)\n",
    "    dZ1 = W2.T.dot(dZ2) * derivativeRelu(Z1)\n",
    "    dW1 = 1/m * dZ1.dot(X.T)\n",
    "    db1 = 1/m * np.sum(dZ1)\n",
    "    return dW1, db1, dW2, db2\n",
    "    \n",
    "    \n",
    "    "
   ]
  },
  {
   "cell_type": "code",
   "execution_count": 8,
   "id": "ab527ea1",
   "metadata": {
    "execution": {
     "iopub.execute_input": "2024-01-10T08:05:31.636235Z",
     "iopub.status.busy": "2024-01-10T08:05:31.635761Z",
     "iopub.status.idle": "2024-01-10T08:05:31.643337Z",
     "shell.execute_reply": "2024-01-10T08:05:31.641832Z"
    },
    "papermill": {
     "duration": 0.018126,
     "end_time": "2024-01-10T08:05:31.646265",
     "exception": false,
     "start_time": "2024-01-10T08:05:31.628139",
     "status": "completed"
    },
    "tags": []
   },
   "outputs": [],
   "source": [
    "def update_params(W1, b1, W2, b2, dW1, db1, dW2, db2, alpha):\n",
    "    W1 = W1 - alpha*dW1\n",
    "    b1 = b1 - alpha*db1\n",
    "    W2 = W2 - alpha*dW2\n",
    "    b2 = b2 - alpha*db2\n",
    "    return W1, b1, W2, b2"
   ]
  },
  {
   "cell_type": "code",
   "execution_count": 9,
   "id": "e8b4a1d6",
   "metadata": {
    "execution": {
     "iopub.execute_input": "2024-01-10T08:05:31.662318Z",
     "iopub.status.busy": "2024-01-10T08:05:31.660891Z",
     "iopub.status.idle": "2024-01-10T08:05:31.671219Z",
     "shell.execute_reply": "2024-01-10T08:05:31.670236Z"
    },
    "papermill": {
     "duration": 0.0208,
     "end_time": "2024-01-10T08:05:31.673675",
     "exception": false,
     "start_time": "2024-01-10T08:05:31.652875",
     "status": "completed"
    },
    "tags": []
   },
   "outputs": [],
   "source": [
    "def get_predictions(A):\n",
    "    return np.argmax(A, 0) #returns array of indices of max value per column\n",
    "                            #axis = 0 means per column, axis = 1 => per row\n",
    "        \n",
    "def get_accuracy(predictions, A):\n",
    "    print(predictions, A)\n",
    "    return np.sum(predictions == A)/A.size #boolean is either 1 or 0, divided by size\n",
    "\n",
    "def gradient_descent(X, Y, iterations, alpha):\n",
    "    W1, b1, W2, b2 = init_parameters()\n",
    "    for i in range(iterations):\n",
    "        Z1, A1, Z2, A2 = forwardP(W1, b1, W2, b2, X)\n",
    "        dW1, db1, dW2, db2 = backwardP(Z1, A1, Z2, A2, W2, X, Y)\n",
    "        W1, b1, W2, b2 = update_params(W1, b1, W2, b2, dW1, db1, dW2, db2, alpha)\n",
    "        if i % 10 == 0:\n",
    "            print(\"Iteration #: \", i)\n",
    "            print(\"Accuracy %: \", get_accuracy(get_predictions(A2), Y))\n",
    "            #print(dW1[0:9,200])\n",
    "    return W1, b1, W2, b2\n",
    "\n"
   ]
  },
  {
   "cell_type": "code",
   "execution_count": 10,
   "id": "797ef2f2",
   "metadata": {
    "execution": {
     "iopub.execute_input": "2024-01-10T08:05:31.688759Z",
     "iopub.status.busy": "2024-01-10T08:05:31.688385Z",
     "iopub.status.idle": "2024-01-10T08:06:57.051986Z",
     "shell.execute_reply": "2024-01-10T08:06:57.050016Z"
    },
    "papermill": {
     "duration": 85.376611,
     "end_time": "2024-01-10T08:06:57.056791",
     "exception": false,
     "start_time": "2024-01-10T08:05:31.680180",
     "status": "completed"
    },
    "tags": []
   },
   "outputs": [
    {
     "name": "stdout",
     "output_type": "stream",
     "text": [
      "Iteration #:  0\n",
      "[1 9 1 ... 9 9 9] [1 1 3 ... 1 4 6]\n",
      "Accuracy %:  0.1296829268292683\n",
      "Iteration #:  10\n",
      "[1 1 1 ... 2 9 6] [1 1 3 ... 1 4 6]\n",
      "Accuracy %:  0.26402439024390245\n",
      "Iteration #:  20\n",
      "[1 1 1 ... 2 9 6] [1 1 3 ... 1 4 6]\n",
      "Accuracy %:  0.33858536585365856\n",
      "Iteration #:  30\n",
      "[1 1 1 ... 3 6 6] [1 1 3 ... 1 4 6]\n",
      "Accuracy %:  0.4039756097560976\n",
      "Iteration #:  40\n",
      "[1 1 1 ... 8 6 6] [1 1 3 ... 1 4 6]\n",
      "Accuracy %:  0.4609268292682927\n",
      "Iteration #:  50\n",
      "[8 1 1 ... 8 6 6] [1 1 3 ... 1 4 6]\n",
      "Accuracy %:  0.5128780487804878\n",
      "Iteration #:  60\n",
      "[8 1 1 ... 8 6 6] [1 1 3 ... 1 4 6]\n",
      "Accuracy %:  0.5542926829268293\n",
      "Iteration #:  70\n",
      "[8 1 1 ... 8 6 6] [1 1 3 ... 1 4 6]\n",
      "Accuracy %:  0.5889024390243902\n",
      "Iteration #:  80\n",
      "[8 1 1 ... 8 9 6] [1 1 3 ... 1 4 6]\n",
      "Accuracy %:  0.6190731707317073\n",
      "Iteration #:  90\n",
      "[8 1 1 ... 8 9 6] [1 1 3 ... 1 4 6]\n",
      "Accuracy %:  0.6425853658536586\n",
      "Iteration #:  100\n",
      "[8 1 1 ... 8 9 6] [1 1 3 ... 1 4 6]\n",
      "Accuracy %:  0.6620243902439025\n",
      "Iteration #:  110\n",
      "[8 1 1 ... 8 9 6] [1 1 3 ... 1 4 6]\n",
      "Accuracy %:  0.6792926829268293\n",
      "Iteration #:  120\n",
      "[8 1 1 ... 8 9 6] [1 1 3 ... 1 4 6]\n",
      "Accuracy %:  0.694560975609756\n",
      "Iteration #:  130\n",
      "[8 1 1 ... 8 9 6] [1 1 3 ... 1 4 6]\n",
      "Accuracy %:  0.707390243902439\n",
      "Iteration #:  140\n",
      "[8 1 1 ... 8 9 6] [1 1 3 ... 1 4 6]\n",
      "Accuracy %:  0.7190731707317073\n",
      "Iteration #:  150\n",
      "[8 1 1 ... 8 9 6] [1 1 3 ... 1 4 6]\n",
      "Accuracy %:  0.7302439024390244\n",
      "Iteration #:  160\n",
      "[8 1 1 ... 8 9 6] [1 1 3 ... 1 4 6]\n",
      "Accuracy %:  0.7400731707317073\n",
      "Iteration #:  170\n",
      "[8 1 1 ... 8 9 6] [1 1 3 ... 1 4 6]\n",
      "Accuracy %:  0.7487560975609756\n",
      "Iteration #:  180\n",
      "[8 1 1 ... 8 9 6] [1 1 3 ... 1 4 6]\n",
      "Accuracy %:  0.7578048780487805\n",
      "Iteration #:  190\n",
      "[8 1 1 ... 8 9 6] [1 1 3 ... 1 4 6]\n",
      "Accuracy %:  0.7656585365853659\n",
      "Iteration #:  200\n",
      "[8 1 1 ... 8 9 6] [1 1 3 ... 1 4 6]\n",
      "Accuracy %:  0.7730487804878049\n",
      "Iteration #:  210\n",
      "[8 1 1 ... 8 9 6] [1 1 3 ... 1 4 6]\n",
      "Accuracy %:  0.7793414634146342\n",
      "Iteration #:  220\n",
      "[8 1 1 ... 8 9 6] [1 1 3 ... 1 4 6]\n",
      "Accuracy %:  0.7848536585365854\n",
      "Iteration #:  230\n",
      "[8 1 1 ... 8 9 6] [1 1 3 ... 1 4 6]\n",
      "Accuracy %:  0.7913414634146342\n",
      "Iteration #:  240\n",
      "[8 1 1 ... 8 9 6] [1 1 3 ... 1 4 6]\n",
      "Accuracy %:  0.7967804878048781\n",
      "Iteration #:  250\n",
      "[8 1 1 ... 8 9 6] [1 1 3 ... 1 4 6]\n",
      "Accuracy %:  0.8007804878048781\n",
      "Iteration #:  260\n",
      "[8 1 3 ... 8 9 6] [1 1 3 ... 1 4 6]\n",
      "Accuracy %:  0.8054634146341464\n",
      "Iteration #:  270\n",
      "[8 1 3 ... 8 9 6] [1 1 3 ... 1 4 6]\n",
      "Accuracy %:  0.8095121951219513\n",
      "Iteration #:  280\n",
      "[8 1 3 ... 8 9 6] [1 1 3 ... 1 4 6]\n",
      "Accuracy %:  0.8132926829268292\n",
      "Iteration #:  290\n",
      "[8 1 3 ... 8 9 6] [1 1 3 ... 1 4 6]\n",
      "Accuracy %:  0.8169268292682926\n",
      "Iteration #:  300\n",
      "[8 1 3 ... 8 9 6] [1 1 3 ... 1 4 6]\n",
      "Accuracy %:  0.8204634146341463\n",
      "Iteration #:  310\n",
      "[8 1 3 ... 8 9 6] [1 1 3 ... 1 4 6]\n",
      "Accuracy %:  0.8239024390243902\n",
      "Iteration #:  320\n",
      "[8 1 3 ... 8 9 6] [1 1 3 ... 1 4 6]\n",
      "Accuracy %:  0.8267560975609756\n",
      "Iteration #:  330\n",
      "[8 1 3 ... 8 9 6] [1 1 3 ... 1 4 6]\n",
      "Accuracy %:  0.8298292682926829\n",
      "Iteration #:  340\n",
      "[8 1 3 ... 8 4 6] [1 1 3 ... 1 4 6]\n",
      "Accuracy %:  0.8325853658536585\n",
      "Iteration #:  350\n",
      "[8 1 3 ... 8 4 6] [1 1 3 ... 1 4 6]\n",
      "Accuracy %:  0.8351951219512195\n",
      "Iteration #:  360\n",
      "[8 1 3 ... 8 4 6] [1 1 3 ... 1 4 6]\n",
      "Accuracy %:  0.8378780487804878\n",
      "Iteration #:  370\n",
      "[8 1 3 ... 8 4 6] [1 1 3 ... 1 4 6]\n",
      "Accuracy %:  0.8400975609756097\n",
      "Iteration #:  380\n",
      "[8 1 3 ... 8 4 6] [1 1 3 ... 1 4 6]\n",
      "Accuracy %:  0.8418292682926829\n",
      "Iteration #:  390\n",
      "[8 1 3 ... 8 4 6] [1 1 3 ... 1 4 6]\n",
      "Accuracy %:  0.843609756097561\n",
      "Iteration #:  400\n",
      "[8 1 3 ... 8 4 6] [1 1 3 ... 1 4 6]\n",
      "Accuracy %:  0.8455609756097561\n",
      "Iteration #:  410\n",
      "[8 1 3 ... 8 4 6] [1 1 3 ... 1 4 6]\n",
      "Accuracy %:  0.8476829268292683\n",
      "Iteration #:  420\n",
      "[8 1 3 ... 8 4 6] [1 1 3 ... 1 4 6]\n",
      "Accuracy %:  0.8496585365853658\n",
      "Iteration #:  430\n",
      "[8 1 3 ... 8 4 6] [1 1 3 ... 1 4 6]\n",
      "Accuracy %:  0.8513414634146341\n",
      "Iteration #:  440\n",
      "[8 1 3 ... 8 4 6] [1 1 3 ... 1 4 6]\n",
      "Accuracy %:  0.8528536585365853\n",
      "Iteration #:  450\n",
      "[8 1 3 ... 8 4 6] [1 1 3 ... 1 4 6]\n",
      "Accuracy %:  0.8545365853658536\n",
      "Iteration #:  460\n",
      "[8 1 3 ... 8 4 6] [1 1 3 ... 1 4 6]\n",
      "Accuracy %:  0.855780487804878\n",
      "Iteration #:  470\n",
      "[8 1 3 ... 8 4 6] [1 1 3 ... 1 4 6]\n",
      "Accuracy %:  0.8569024390243902\n",
      "Iteration #:  480\n",
      "[8 1 3 ... 8 4 6] [1 1 3 ... 1 4 6]\n",
      "Accuracy %:  0.8579024390243902\n",
      "Iteration #:  490\n",
      "[8 1 3 ... 8 4 6] [1 1 3 ... 1 4 6]\n",
      "Accuracy %:  0.8592682926829268\n"
     ]
    }
   ],
   "source": [
    "W1, b1, W2, b2 = gradient_descent(xTrain, yTrain, 500, .1)"
   ]
  },
  {
   "cell_type": "code",
   "execution_count": 11,
   "id": "119cd080",
   "metadata": {
    "execution": {
     "iopub.execute_input": "2024-01-10T08:06:57.109488Z",
     "iopub.status.busy": "2024-01-10T08:06:57.107117Z",
     "iopub.status.idle": "2024-01-10T08:06:57.128214Z",
     "shell.execute_reply": "2024-01-10T08:06:57.126358Z"
    },
    "papermill": {
     "duration": 0.055749,
     "end_time": "2024-01-10T08:06:57.135503",
     "exception": false,
     "start_time": "2024-01-10T08:06:57.079754",
     "status": "completed"
    },
    "tags": []
   },
   "outputs": [],
   "source": [
    "def make_predictions(X, W1, b1, W2, b2):\n",
    "    _, _, _, A2 = forwardP(W1, b1, W2, b2, X)\n",
    "    return get_predictions(A2)\n",
    "\n",
    "def test_prediction(i, W1, b1, W2, b2):\n",
    "    current_image = xTest[:, i, None]\n",
    "    prediction = make_predictions(xTrain[:, i, None], W1, b1, W2, b2)\n",
    "    label = yTrain[i]\n",
    "    print(\"prediction: \", prediction)\n",
    "    print(\"actual: \", label)\n",
    "    "
   ]
  },
  {
   "cell_type": "code",
   "execution_count": 12,
   "id": "a6de6bc5",
   "metadata": {
    "execution": {
     "iopub.execute_input": "2024-01-10T08:06:57.179373Z",
     "iopub.status.busy": "2024-01-10T08:06:57.178897Z",
     "iopub.status.idle": "2024-01-10T08:06:57.187164Z",
     "shell.execute_reply": "2024-01-10T08:06:57.185814Z"
    },
    "papermill": {
     "duration": 0.027948,
     "end_time": "2024-01-10T08:06:57.190776",
     "exception": false,
     "start_time": "2024-01-10T08:06:57.162828",
     "status": "completed"
    },
    "tags": []
   },
   "outputs": [
    {
     "name": "stdout",
     "output_type": "stream",
     "text": [
      "prediction:  [8]\n",
      "actual:  1\n",
      "prediction:  [1]\n",
      "actual:  1\n",
      "prediction:  [3]\n",
      "actual:  3\n",
      "prediction:  [0]\n",
      "actual:  0\n"
     ]
    }
   ],
   "source": [
    "for i in range(4):\n",
    "    test_prediction(i, W1, b1, W2, b2)"
   ]
  },
  {
   "cell_type": "code",
   "execution_count": 13,
   "id": "c7baf77f",
   "metadata": {
    "execution": {
     "iopub.execute_input": "2024-01-10T08:06:57.215817Z",
     "iopub.status.busy": "2024-01-10T08:06:57.215421Z",
     "iopub.status.idle": "2024-01-10T08:06:57.248788Z",
     "shell.execute_reply": "2024-01-10T08:06:57.247477Z"
    },
    "papermill": {
     "duration": 0.054021,
     "end_time": "2024-01-10T08:06:57.256181",
     "exception": false,
     "start_time": "2024-01-10T08:06:57.202160",
     "status": "completed"
    },
    "tags": []
   },
   "outputs": [
    {
     "name": "stdout",
     "output_type": "stream",
     "text": [
      "[0 2 7 3 5 7 3 5 0 5 0 8 6 8 3 9 5 2 0 5 8 1 5 5 0 9 7 8 3 6 3 7 6 6 2 6 9\n",
      " 6 0 2 8 4 8 7 5 1 5 6 6 0 1 3 2 5 7 0 4 2 2 8 5 4 3 5 3 7 4 9 0 8 5 3 5 2\n",
      " 9 8 6 1 5 2 5 7 8 7 0 1 1 1 5 0 9 6 9 9 6 0 8 7 8 6 5 7 1 4 8 3 8 5 0 1 8\n",
      " 8 6 9 1 9 5 1 2 8 7 7 7 1 7 9 7 1 0 7 6 3 7 2 2 0 1 2 4 1 2 8 6 0 8 4 6 5\n",
      " 3 4 0 0 1 0 2 3 0 6 0 1 8 1 7 1 5 4 1 6 4 8 4 7 6 7 1 8 2 6 4 5 7 9 3 4 9\n",
      " 7 6 1 2 4 9 8 9 7 1 5 3 5 5 7 2 5 4 6 6 7 3 3 0 2 2 9 4 8 1 0 1 9 3 6 9 3\n",
      " 1 3 3 1 9 5 5 9 9 9 2 8 1 7 0 4 5 0 5 1 1 7 2 0 8 7 2 6 0 8 0 7 6 0 4 5 4\n",
      " 2 8 6 0 1 9 7 1 2 1 2 9 1 7 6 6 2 6 9 1 7 1 1 0 1 6 6 6 6 3 6 7 2 5 7 5 2\n",
      " 5 3 1 2 7 4 0 9 7 4 8 9 6 1 3 5 7 2 3 8 0 5 8 7 4 2 3 9 0 9 7 8 2 4 5 9 9\n",
      " 0 7 8 8 0 5 7 3 0 8 1 1 8 5 9 0 2 3 9 6 8 5 0 4 1 0 1 7 7 7 4 3 4 1 8 5 4\n",
      " 9 1 0 3 5 0 0 5 8 6 2 5 1 0 6 9 9 3 1 0 1 9 4 0 9 7 3 2 3 7 9 0 5 6 0 6 1\n",
      " 0 6 7 5 4 8 2 8 4 0 6 5 7 4 9 3 2 1 5 3 8 5 6 2 7 0 2 4 7 7 7 7 1 3 0 4 5\n",
      " 1 3 4 3 0 0 2 5 1 4 8 5 7 7 2 6 3 4 5 8 2 4 8 8 3 8 1 6 0 8 9 7 6 2 9 7 1\n",
      " 2 1 8 5 7 7 4 0 6 7 0 6 2 6 1 6 0 6 5 2 2 0 3 1 9 1 7 6 9 7 9 4 9 0 7 2 0\n",
      " 9 0 2 5 1 8 7 3 5 6 6 8 7 4 7 8 7 8 6 6 1 2 7 7 9 2 1 3 4 7 0 7 1 3 1 7 0\n",
      " 6 9 6 5 1 1 9 1 7 2 4 4 8 2 5 4 8 0 4 5 3 0 0 8 0 2 2 6 3 0 1 3 0 2 1 7 0\n",
      " 0 4 3 1 4 7 3 1 6 5 6 4 1 5 2 8 7 9 0 6 7 3 2 1 1 3 2 0 1 7 9 0 9 5 0 1 9\n",
      " 2 2 4 4 5 3 6 0 4 5 8 8 5 4 2 6 5 5 4 5 5 3 8 9 7 9 8 9 6 3 2 6 5 0 0 5 8\n",
      " 3 9 9 0 7 1 0 8 6 3 0 4 4 2 9 2 7 0 2 4 0 8 0 9 7 4 7 4 1 5 3 1 2 0 5 2 0\n",
      " 0 7 9 6 7 8 3 5 8 0 9 7 8 4 3 1 7 7 9 4 0 5 3 3 2 7 7 7 1 8 8 2 9 6 5 7 0\n",
      " 7 2 2 2 3 3 1 0 1 5 7 5 5 6 5 6 1 9 8 2 3 1 6 3 7 4 6 8 0 0 5 6 8 7 7 9 0\n",
      " 4 4 3 5 2 4 3 3 6 7 1 7 0 3 6 7 7 2 6 3 0 0 8 8 9 1 1 0 4 1 7 9 5 8 5 5 0\n",
      " 5 5 9 9 5 6 7 4 4 6 4 0 7 4 0 5 9 2 2 7 7 0 4 5 6 5 3 8 3 8 1 9 4 6 3 0 3\n",
      " 3 7 0 1 9 9 6 2 5 3 9 2 7 2 6 4 5 6 6 0 6 0 4 6 8 8 1 0 9 6 2 6 6 3 5 9 7\n",
      " 0 1 4 0 8 1 6 3 9 6 6 1 3 8 0 9 1 8 1 2 0 0 0 5 4 9 9 5 6 3 8 9 9 6 9 3 2\n",
      " 5 4 7 6 0 3 4 4 2 1 2 6 5 2 3 1 9 8 1 1 0 1 5 0 2 2 8 9 6 8 6 3 9 8 5 4 5\n",
      " 6 4 3 4 6 7 9 3 6 9 4 2 0 8 5 0 5 3 2 8 0 2 0 9 5 0 6 5 8 5 6 4 3 4 9 6 0\n",
      " 6] [0 2 7 3 5 7 3 5 0 5 0 5 6 5 3 9 5 2 0 0 8 1 5 5 0 8 7 8 3 1 3 7 6 6 2 6 4\n",
      " 6 0 2 8 4 8 8 5 1 3 6 6 0 1 3 3 5 9 0 4 2 2 8 8 4 3 5 3 7 4 9 0 8 3 3 5 2\n",
      " 9 8 6 1 3 2 5 2 8 7 0 1 1 1 5 0 7 6 9 9 6 0 8 7 3 6 5 7 1 4 8 3 8 5 0 1 5\n",
      " 2 6 9 1 9 5 2 2 8 7 7 7 1 7 9 7 1 0 8 6 3 7 2 2 0 1 6 4 1 2 8 6 0 3 9 6 5\n",
      " 3 9 0 0 3 0 2 3 0 4 6 8 8 1 7 1 3 4 1 2 4 8 4 9 6 7 1 8 2 6 4 5 7 9 3 4 7\n",
      " 7 6 1 2 4 9 8 9 7 1 5 3 5 6 7 2 3 4 6 6 7 3 3 0 6 2 9 4 8 1 0 1 9 3 6 9 3\n",
      " 1 3 8 1 9 5 5 9 9 9 2 8 1 7 5 4 5 0 3 1 1 7 7 0 8 7 2 6 0 8 0 4 6 0 4 5 4\n",
      " 2 8 6 7 1 8 7 1 2 1 2 9 1 7 2 6 2 6 7 1 7 1 1 0 1 6 6 6 6 3 6 7 7 5 7 5 2\n",
      " 3 3 1 2 2 5 0 7 7 4 8 9 8 1 3 1 7 2 3 8 0 3 8 7 4 2 3 9 0 9 7 8 0 4 6 9 9\n",
      " 0 7 3 8 0 5 7 3 0 8 1 1 8 5 9 0 2 3 9 6 8 5 0 9 1 0 1 7 7 7 4 3 4 1 8 5 4\n",
      " 9 1 5 3 5 0 0 5 2 6 3 3 1 0 6 9 9 5 1 0 1 9 4 0 4 7 3 2 3 7 9 0 5 6 0 6 1\n",
      " 6 6 7 5 4 8 2 8 4 8 4 5 7 4 9 5 2 1 5 3 8 8 6 2 7 0 2 4 7 7 7 7 1 3 0 3 5\n",
      " 1 9 4 3 0 0 2 5 1 4 3 5 7 7 2 6 3 8 5 8 2 4 8 8 3 3 1 9 8 8 9 7 2 3 9 9 1\n",
      " 2 1 8 7 8 7 4 0 4 7 0 6 0 6 1 6 0 6 3 6 2 0 3 1 9 1 7 6 9 7 9 4 8 0 7 2 0\n",
      " 9 0 4 5 1 8 7 2 5 6 6 8 7 4 7 8 7 8 6 6 1 2 7 7 9 2 1 3 9 7 0 7 1 4 1 5 0\n",
      " 6 9 6 5 3 1 9 1 7 2 4 4 8 2 5 4 8 0 4 5 3 0 0 8 0 2 2 6 5 0 1 3 0 1 1 4 0\n",
      " 0 4 3 1 4 9 3 1 6 5 6 4 1 5 2 8 7 9 5 0 7 9 2 1 1 3 2 6 1 7 9 0 8 8 5 1 9\n",
      " 0 2 4 4 5 3 6 0 4 5 8 8 3 4 2 6 5 6 4 5 5 3 8 9 7 9 8 9 6 3 3 6 5 0 0 5 8\n",
      " 2 7 9 0 5 1 0 8 6 3 6 4 4 7 9 2 7 0 2 4 0 8 0 9 7 4 7 4 1 1 3 1 2 2 5 1 0\n",
      " 0 7 9 6 7 8 8 5 8 0 9 7 5 9 3 1 7 7 9 4 2 5 3 9 2 7 7 7 1 8 5 2 9 6 5 7 0\n",
      " 7 3 2 2 3 3 1 0 7 5 7 3 5 6 5 6 1 9 5 2 3 1 6 2 7 4 6 8 0 0 5 6 8 7 7 9 0\n",
      " 4 9 3 5 2 4 3 3 6 7 1 7 2 3 6 7 7 3 6 3 0 0 8 8 9 1 1 0 4 1 7 9 5 8 0 5 0\n",
      " 5 5 9 9 5 6 7 9 4 2 9 0 7 4 0 8 9 2 2 7 7 0 4 5 6 5 3 8 3 8 1 9 0 6 3 0 5\n",
      " 3 7 0 1 9 9 6 2 5 3 9 2 7 2 6 4 5 6 6 0 0 0 4 6 8 8 1 7 9 6 2 6 6 3 5 9 7\n",
      " 0 1 4 0 8 1 6 3 9 6 6 4 3 8 0 9 8 8 1 2 0 0 0 8 4 4 9 5 6 3 8 9 9 6 4 3 2\n",
      " 5 4 7 6 0 3 4 4 3 1 2 6 5 2 3 1 9 8 1 1 2 1 5 0 2 2 8 9 6 8 6 3 9 8 5 4 5\n",
      " 6 4 3 4 6 7 9 3 6 9 4 2 0 8 3 0 5 5 3 8 0 2 0 9 5 0 6 3 8 5 6 9 3 4 9 6 0\n",
      " 6]\n"
     ]
    },
    {
     "data": {
      "text/plain": [
       "0.852"
      ]
     },
     "execution_count": 13,
     "metadata": {},
     "output_type": "execute_result"
    }
   ],
   "source": [
    "all_testing_results = make_predictions(xTest, W1, b1, W2, b2)\n",
    "get_accuracy(all_testing_results, yTest)"
   ]
  },
  {
   "cell_type": "code",
   "execution_count": null,
   "id": "fd2aaf7f",
   "metadata": {
    "papermill": {
     "duration": 0.025665,
     "end_time": "2024-01-10T08:06:57.306317",
     "exception": false,
     "start_time": "2024-01-10T08:06:57.280652",
     "status": "completed"
    },
    "tags": []
   },
   "outputs": [],
   "source": []
  }
 ],
 "metadata": {
  "kaggle": {
   "accelerator": "none",
   "dataSources": [
    {
     "databundleVersionId": 861823,
     "sourceId": 3004,
     "sourceType": "competition"
    }
   ],
   "dockerImageVersionId": 30626,
   "isGpuEnabled": false,
   "isInternetEnabled": false,
   "language": "python",
   "sourceType": "notebook"
  },
  "kernelspec": {
   "display_name": "Python 3",
   "language": "python",
   "name": "python3"
  },
  "language_info": {
   "codemirror_mode": {
    "name": "ipython",
    "version": 3
   },
   "file_extension": ".py",
   "mimetype": "text/x-python",
   "name": "python",
   "nbconvert_exporter": "python",
   "pygments_lexer": "ipython3",
   "version": "3.10.12"
  },
  "papermill": {
   "default_parameters": {},
   "duration": 96.449273,
   "end_time": "2024-01-10T08:06:57.962070",
   "environment_variables": {},
   "exception": null,
   "input_path": "__notebook__.ipynb",
   "output_path": "__notebook__.ipynb",
   "parameters": {},
   "start_time": "2024-01-10T08:05:21.512797",
   "version": "2.4.0"
  }
 },
 "nbformat": 4,
 "nbformat_minor": 5
}
